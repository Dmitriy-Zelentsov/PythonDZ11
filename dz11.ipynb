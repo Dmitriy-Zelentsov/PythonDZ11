{
 "cells": [
  {
   "cell_type": "code",
   "execution_count": 22,
   "metadata": {},
   "outputs": [
    {
     "name": "stdout",
     "output_type": "stream",
     "text": [
      "[-5/54 - sqrt(515)*I/54, -5/54 + sqrt(515)*I/54]\n"
     ]
    }
   ],
   "source": [
    "import sympy\n",
    "x = sympy.Symbol('x')\n",
    "f = 18*x**3+5*x**2 + 10*x - 30\n",
    "diff = sympy.diff(f,x)\n",
    "print(sympy.solve(diff,x))"
   ]
  },
  {
   "cell_type": "code",
   "execution_count": 20,
   "metadata": {},
   "outputs": [
    {
     "name": "stdout",
     "output_type": "stream",
     "text": [
      "(-oo < x) & (x < oo)\n",
      "False\n"
     ]
    }
   ],
   "source": [
    "import sympy\n",
    "x = sympy.Symbol('x')\n",
    "f = 18*x**3+5*x**2 + 10*x - 30\n",
    "diff = sympy.diff(f,x)\n",
    "print(sympy.solve(diff>0,x))\n",
    "print(sympy.solve(diff<0,x))\n"
   ]
  },
  {
   "cell_type": "code",
   "execution_count": 16,
   "metadata": {},
   "outputs": [
    {
     "name": "stdout",
     "output_type": "stream",
     "text": [
      "(x < oo) & (CRootOf(18*x**3 + 5*x**2 + 10*x - 30, 0) < x)\n",
      "(-oo < x) & (x < CRootOf(18*x**3 + 5*x**2 + 10*x - 30, 0))\n"
     ]
    }
   ],
   "source": [
    "import sympy\n",
    "x = sympy.Symbol('x')\n",
    "print(sympy.solve(18*x**3+5*x**2 + 10*x - 30 > 0,x))\n",
    "print(sympy.solve(18*x**3+5*x**2 + 10*x - 30 < 0,x))"
   ]
  },
  {
   "cell_type": "code",
   "execution_count": 17,
   "metadata": {},
   "outputs": [
    {
     "name": "stdout",
     "output_type": "stream",
     "text": [
      "[-5/54 + (-1/2 - sqrt(3)*I/2)*(135145/157464 + 5*sqrt(252411)/2916)**(1/3) - 515/(2916*(-1/2 - sqrt(3)*I/2)*(135145/157464 + 5*sqrt(252411)/2916)**(1/3)), -5/54 - 515/(2916*(-1/2 + sqrt(3)*I/2)*(135145/157464 + 5*sqrt(252411)/2916)**(1/3)) + (-1/2 + sqrt(3)*I/2)*(135145/157464 + 5*sqrt(252411)/2916)**(1/3), -515/(2916*(135145/157464 + 5*sqrt(252411)/2916)**(1/3)) - 5/54 + (135145/157464 + 5*sqrt(252411)/2916)**(1/3)]\n"
     ]
    }
   ],
   "source": [
    "import sympy\n",
    "x = sympy.Symbol('x')\n",
    "a = sympy.solve(18*x**3+5*x**2 + 10*x - 30,x)\n",
    "print(a)"
   ]
  },
  {
   "cell_type": "code",
   "execution_count": 5,
   "metadata": {},
   "outputs": [
    {
     "name": "stdout",
     "output_type": "stream",
     "text": [
      "  19000 |                                                      /\n",
      "        |                                                     / \n",
      "        |                                                    /  \n",
      "        |                                                   /   \n",
      "        |                                                  /    \n",
      "        |                                                 /     \n",
      "        |                                               ..      \n",
      "        |                                             ..        \n",
      "        |                                           ..          \n",
      "        |                                       ....            \n",
      "    500 |--------------------...................----------------\n",
      "        |              ......                                   \n",
      "        |           ...                                         \n",
      "        |         ..                                            \n",
      "        |       ..                                              \n",
      "        |     ..                                                \n",
      "        |    /                                                  \n",
      "        |   /                                                   \n",
      "        |  /                                                    \n",
      "        | /                                                     \n",
      " -18000 |_______________________________________________________\n",
      "         -10                        0                          10\n"
     ]
    },
    {
     "data": {
      "text/plain": [
       "<sympy.plotting.plot.Plot at 0x2830f715060>"
      ]
     },
     "execution_count": 5,
     "metadata": {},
     "output_type": "execute_result"
    }
   ],
   "source": [
    "import sympy\n",
    "x = sympy.Symbol('x')\n",
    "sympy.plotting.plot(18*x**3+5*x**2 + 10*x - 30)"
   ]
  }
 ],
 "metadata": {
  "kernelspec": {
   "display_name": "Python 3.10.8 64-bit (microsoft store)",
   "language": "python",
   "name": "python3"
  },
  "language_info": {
   "codemirror_mode": {
    "name": "ipython",
    "version": 3
   },
   "file_extension": ".py",
   "mimetype": "text/x-python",
   "name": "python",
   "nbconvert_exporter": "python",
   "pygments_lexer": "ipython3",
   "version": "3.10.8"
  },
  "orig_nbformat": 4,
  "vscode": {
   "interpreter": {
    "hash": "23f823caeccb1684f6bd50492b68bb5eab208de0408f39b2457c6a38c0e8e818"
   }
  }
 },
 "nbformat": 4,
 "nbformat_minor": 2
}
